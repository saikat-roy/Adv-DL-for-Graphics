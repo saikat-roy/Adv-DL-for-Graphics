{
  "nbformat": 4,
  "nbformat_minor": 0,
  "metadata": {
    "colab": {
      "name": "Assignment1_ADLG.ipynb",
      "provenance": []
    },
    "kernelspec": {
      "name": "python3",
      "display_name": "Python 3"
    },
    "accelerator": "GPU"
  },
  "cells": [
    {
      "cell_type": "markdown",
      "metadata": {
        "id": "0CyX-KpjfZWE",
        "colab_type": "text"
      },
      "source": [
        "Import Dependencies\n",
        "-----"
      ]
    },
    {
      "cell_type": "code",
      "metadata": {
        "id": "OiJ22E7HfYcQ",
        "colab_type": "code",
        "colab": {}
      },
      "source": [
        "from os import makedirs\n",
        "\n",
        "import numpy as np\n",
        "\n",
        "import matplotlib.pyplot as plt\n",
        "\n",
        "import torch\n",
        "import torch.nn as nn\n",
        "\n",
        "from torchvision import datasets, transforms\n",
        "from torchvision.utils import save_image\n",
        "\n",
        "from torchsummary import summary"
      ],
      "execution_count": 0,
      "outputs": []
    },
    {
      "cell_type": "markdown",
      "metadata": {
        "id": "MM4rAVn6fznp",
        "colab_type": "text"
      },
      "source": [
        "Autoencoder Object\n",
        "----\n"
      ]
    },
    {
      "cell_type": "code",
      "metadata": {
        "id": "Am103AhKf6qO",
        "colab_type": "code",
        "colab": {}
      },
      "source": [
        "class Autoencoder(nn.Module):\n",
        "    \"\"\"\n",
        "    Autoencoder where the decoder structure simply mirrors the encoder structure\n",
        "    \"\"\"\n",
        "\n",
        "    def __init__(self, n_input, h_units, non_lin):\n",
        "        \"\"\"\n",
        "        Decoder is designed to model the\n",
        "        :param n_input: no. of input units to the network\n",
        "        :param h_units: list of size n_layers\n",
        "        \"\"\"\n",
        "        super(Autoencoder, self).__init__()\n",
        "        layer_list = []\n",
        "        h_layers = len(h_units)\n",
        "\n",
        "        def add_layer_and_act(n_inp, n_hidden, nl_type): return [nn.Linear(n_inp, n_hidden), self.non_lin(nl_type)]\n",
        "\n",
        "        # Build Encoder Layers\n",
        "        layer_list.extend(add_layer_and_act(n_input, h_units[0], non_lin))\n",
        "\n",
        "        if len(h_units)>1:\n",
        "            for i in range(1, h_layers):\n",
        "                layer_list.extend(add_layer_and_act(h_units[i-1], h_units[i], non_lin))\n",
        "\n",
        "        # Build Decoder Layers\n",
        "        if len(h_units) > 1:\n",
        "            for i in range(h_layers-1, 0, -1):\n",
        "                layer_list.extend(add_layer_and_act(h_units[i], h_units[i-1], non_lin))\n",
        "\n",
        "        # Build Output layer\n",
        "        non_lin = 'sigmoid' # Output sigmoidal regardless of network non-linearities\n",
        "        layer_list.extend(add_layer_and_act(h_units[0], n_input, non_lin))\n",
        "\n",
        "        self.block = nn.Sequential(*layer_list)\n",
        "\n",
        "    def forward(self, x):\n",
        "        return self.block(x)\n",
        "\n",
        "    def non_lin(self, nl_type='sigmoid'):\n",
        "        \"\"\"\n",
        "        Simply plugs in a predefined non-linearity from a dictionary to be used throughout the network\n",
        "        :param nl_type: type based on predefined types. Defaults to sigmoid on wrong type.\n",
        "        :return:\n",
        "        \"\"\"\n",
        "        nl = {'sigmoid': nn.Sigmoid(), 'tanh': nn.Tanh(), 'relu': nn.ReLU()}\n",
        "        try:\n",
        "            return nl[nl_type]\n",
        "        except:\n",
        "            print(\"non linearity type not found. Defaulting to sigmoid.\")\n",
        "            return nl['sigmoid']\n"
      ],
      "execution_count": 0,
      "outputs": []
    },
    {
      "cell_type": "markdown",
      "metadata": {
        "id": "PQtpii4_gKR5",
        "colab_type": "text"
      },
      "source": [
        "Test Model Object\n",
        "---"
      ]
    },
    {
      "cell_type": "code",
      "metadata": {
        "id": "bvPVN52VgCQo",
        "colab_type": "code",
        "colab": {
          "base_uri": "https://localhost:8080/",
          "height": 578
        },
        "outputId": "489752f4-899c-47c3-8857-61f2c75d2c8b"
      },
      "source": [
        "model = Autoencoder(784, [256, 128], 'sigmoid').cuda()\n",
        "summary(model, input_size=(1, 784))\n",
        "print(model)"
      ],
      "execution_count": 3,
      "outputs": [
        {
          "output_type": "stream",
          "text": [
            "----------------------------------------------------------------\n",
            "        Layer (type)               Output Shape         Param #\n",
            "================================================================\n",
            "            Linear-1               [-1, 1, 256]         200,960\n",
            "           Sigmoid-2               [-1, 1, 256]               0\n",
            "            Linear-3               [-1, 1, 128]          32,896\n",
            "           Sigmoid-4               [-1, 1, 128]               0\n",
            "            Linear-5               [-1, 1, 256]          33,024\n",
            "           Sigmoid-6               [-1, 1, 256]               0\n",
            "            Linear-7               [-1, 1, 784]         201,488\n",
            "           Sigmoid-8               [-1, 1, 784]               0\n",
            "================================================================\n",
            "Total params: 468,368\n",
            "Trainable params: 468,368\n",
            "Non-trainable params: 0\n",
            "----------------------------------------------------------------\n",
            "Input size (MB): 0.00\n",
            "Forward/backward pass size (MB): 0.02\n",
            "Params size (MB): 1.79\n",
            "Estimated Total Size (MB): 1.81\n",
            "----------------------------------------------------------------\n",
            "Autoencoder(\n",
            "  (block): Sequential(\n",
            "    (0): Linear(in_features=784, out_features=256, bias=True)\n",
            "    (1): Sigmoid()\n",
            "    (2): Linear(in_features=256, out_features=128, bias=True)\n",
            "    (3): Sigmoid()\n",
            "    (4): Linear(in_features=128, out_features=256, bias=True)\n",
            "    (5): Sigmoid()\n",
            "    (6): Linear(in_features=256, out_features=784, bias=True)\n",
            "    (7): Sigmoid()\n",
            "  )\n",
            ")\n"
          ],
          "name": "stdout"
        }
      ]
    },
    {
      "cell_type": "markdown",
      "metadata": {
        "id": "P_Zn2vfPhRv4",
        "colab_type": "text"
      },
      "source": [
        "Weight Init and Train Methods\n",
        "----\n"
      ]
    },
    {
      "cell_type": "code",
      "metadata": {
        "id": "UQ0onjOBhbkV",
        "colab_type": "code",
        "colab": {}
      },
      "source": [
        "def init_weights(m, mean=0, std=.3):\n",
        "    \"\"\"\n",
        "    Initializes the weights of linear layers of m using random normal distribution with mean=0 and variance = 0.2\n",
        "    :param m:\n",
        "    :return:\n",
        "    \"\"\"\n",
        "\n",
        "    if type(m) == nn.Linear:\n",
        "        torch.nn.init.normal_(m.weight, mean, std)\n",
        "        torch.nn.init.normal_(m.bias, mean, std)\n",
        "\n",
        "\n",
        "def train(dataloader, iters = 20):\n",
        "    \"\"\"\n",
        "    Trains the 'model' (autoencoder) on the given dataloader and saves the last batch of images\n",
        "    :param dataloader: The autoencoder is trained on the dataloader\n",
        "    :param iters: iterations for training\n",
        "    :return:\n",
        "    \"\"\"\n",
        "    loss_list = []\n",
        "    makedirs(f'./{loss_type}_Images', exist_ok=True)\n",
        "    for itr in range(iters):\n",
        "        av_itr_loss = 0.0\n",
        "        for batch_id, (x, _) in enumerate(dataloader):\n",
        "            optimizer.zero_grad()\n",
        "            x = x.cuda()\n",
        "            # x = (x>0.5).float() * 1\n",
        "            x = x.view(batch_size, -1)\n",
        "            # print(x[0])\n",
        "            z = model(x)\n",
        "            # print((z==1).sum())\n",
        "            batch_loss = loss(z, x)\n",
        "            batch_loss.backward()\n",
        "            optimizer.step()\n",
        "            av_itr_loss += (1/batch_size)*batch_loss.item()\n",
        "        save_image(z.view(batch_size, 1, 28, 28), \"./{}_Images/generated_image_itr_{}.png\".format(loss_type, itr))\n",
        "        if itr == iters-1:\n",
        "            save_image(z.view(batch_size,1,28,28),\"./{}_generated_image_itr_{}.png\".format(loss_type,itr))\n",
        "        print(\"Epoch {}: Loss={}\".format(itr+1, av_itr_loss))\n",
        "        loss_list.append(av_itr_loss)\n",
        "    return loss_list\n",
        "\n",
        "\n",
        "def plot_training_curve():\n",
        "    \"\"\"\n",
        "    Plots the loss list\n",
        "    \"\"\"\n",
        "    plt.plot(loss_list)\n",
        "    plt.ylabel(f\"{loss_type}\")\n",
        "    plt.xticks([i+1 for i in range(20)])\n",
        "    plt.xlabel(\"Epochs\")\n",
        "    plt.show()\n",
        "\n"
      ],
      "execution_count": 0,
      "outputs": []
    },
    {
      "cell_type": "markdown",
      "metadata": {
        "id": "iWP9WbQmhpev",
        "colab_type": "text"
      },
      "source": [
        "Run Training\n",
        "----\n"
      ]
    },
    {
      "cell_type": "code",
      "metadata": {
        "id": "-TjjKuE2h-Wm",
        "colab_type": "code",
        "colab": {
          "base_uri": "https://localhost:8080/",
          "height": 637
        },
        "outputId": "aa2b74dd-9d7f-457f-e8ed-4def1b0e96a9"
      },
      "source": [
        "lr = 0.7\n",
        "batch_size = 64\n",
        "\n",
        "d_train = datasets.MNIST('./data/mnist', train=True, download=True, transform=transforms.ToTensor())\n",
        "# d_test  = datasets.MNIST('./data/mnist', train=False, download=True, transform=transforms.ToTensor())\n",
        "\n",
        "train_dataloader = torch.utils.data.DataLoader(d_train, batch_size=batch_size, shuffle=True, drop_last=True)\n",
        "# test_dataloader  = torch.utils.data.DataLoader(d_test,  batch_size=batch_size, shuffle=True, drop_last=True)\n",
        "\n",
        "# Creating Autoencoder of as specified in Question 1\n",
        "model = Autoencoder(784, [256, 128], 'sigmoid')\n",
        "\n",
        "# Initializing autoencoder weights as specified in Question 2\n",
        "model.apply(init_weights)\n",
        "model = model.cuda()\n",
        "model.train()\n",
        "\n",
        "print(\"Training on MSE Loss:\")\n",
        "# Using Squared Error Loss as in Question 3\n",
        "loss_type = \"Squared_Error\"\n",
        "# loss = lambda x, z: (x-z).pow(2).sum(dim=1).mean() # Manual MSELoss implementation with mean over batch of sum(X-Z)^2\n",
        "loss = nn.MSELoss() # MSE either does mean of everything or sum of everything I think\n",
        "optimizer = torch.optim.SGD(model.parameters(), lr=lr)\n",
        "loss_list = train(train_dataloader)\n",
        "plot_training_curve()\n",
        "\n",
        "print(\"\\nTraining on Cross Entropy Loss:\")\n",
        "# Using Cross Entropy Error as in Question 4\n",
        "lr = 0.1 # Need a higher lr for CE to converge\n",
        "loss_type = \"Cross_Entropy\"\n",
        "model.apply(init_weights) # Reinitializing weights\n",
        "model.train()\n",
        "# loss = lambda x, z: (x*torch.log1p(z) + (1-x) * torch.log1p(1-z)).sum(dim=1).mean()\n",
        "loss = nn.BCELoss()\n",
        "optimizer = torch.optim.SGD(model.parameters(), lr=lr)\n",
        "loss_list = train(train_dataloader)\n",
        "plot_training_curve()"
      ],
      "execution_count": 10,
      "outputs": [
        {
          "output_type": "stream",
          "text": [
            "Training on MSE Loss:\n",
            "Epoch 1: Loss=1.9606238268315792\n",
            "Epoch 2: Loss=1.2076950437622145\n",
            "Epoch 3: Loss=1.104364866623655\n",
            "Epoch 4: Loss=1.0477961028227583\n",
            "Epoch 5: Loss=1.0148502392694354\n",
            "Epoch 6: Loss=0.9781471453607082\n",
            "Epoch 7: Loss=0.9445457305992022\n",
            "Epoch 8: Loss=0.9221306134131737\n",
            "Epoch 9: Loss=0.8993958813953213\n",
            "Epoch 10: Loss=0.8775020111352205\n",
            "Epoch 11: Loss=0.856535050785169\n",
            "Epoch 12: Loss=0.8366701625636779\n",
            "Epoch 13: Loss=0.8175574112101458\n",
            "Epoch 14: Loss=0.7993037842097692\n",
            "Epoch 15: Loss=0.7816632477333769\n",
            "Epoch 16: Loss=0.7635411414667033\n",
            "Epoch 17: Loss=0.7478900897549465\n",
            "Epoch 18: Loss=0.7330610797507688\n",
            "Epoch 19: Loss=0.7189321384648792\n",
            "Epoch 20: Loss=0.7054778364254162\n"
          ],
          "name": "stdout"
        },
        {
          "output_type": "display_data",
          "data": {
            "image/png": "[encoded data removed]",
            "text/plain": [
              "<Figure size 432x288 with 1 Axes>"
            ]
          },
          "metadata": {
            "tags": [],
            "needs_background": "light"
          }
        }
      ]
    }
  ]
}